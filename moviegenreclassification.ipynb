{
 "cells": [
  {
   "cell_type": "code",
   "execution_count": 14,
   "id": "4c003711-2cff-4c36-9b07-1fd4d6839a94",
   "metadata": {},
   "outputs": [],
   "source": [
    "import pandas as pd\n",
    "import numpy as np\n",
    "import re\n",
    "from tqdm import tqdm\n",
    "from sklearn.feature_extraction.text import TfidfVectorizer\n",
    "from sklearn.pipeline import Pipeline\n",
    "from sklearn.naive_bayes import MultinomialNB\n",
    "from sklearn.linear_model import LogisticRegression\n",
    "from sklearn.svm import LinearSVC\n",
    "from sklearn.metrics import accuracy_score, classification_report\n",
    "from sklearn.preprocessing import LabelEncoder\n"
   ]
  },
  {
   "cell_type": "code",
   "execution_count": 16,
   "id": "c5542818-c54b-4db0-ac2a-2fb766ae21fd",
   "metadata": {},
   "outputs": [],
   "source": [
    "# File paths\n",
    "train_path = \"C:\\\\Users\\\\sachi\\\\Desktop\\\\New folder (2)\\\\Genre Classification Dataset\\\\train_data.txt\"\n",
    "test_path = \"C:\\\\Users\\\\sachi\\\\Desktop\\\\New folder (2)\\\\Genre Classification Dataset\\\\test_data.txt\"\n",
    "test_solution_path =\"C:\\\\Users\\\\sachi\\\\Desktop\\\\New folder (2)\\\\Genre Classification Dataset\\\\test_data_solution.txt\"\n",
    "\n",
    "# Load data\n",
    "def load_data(path, is_train=True):\n",
    "    with open(path, encoding='utf-8') as f:\n",
    "        lines = f.read().splitlines()\n",
    "    data = []\n",
    "    for line in lines:\n",
    "        parts = line.split(\" ::: \")\n",
    "        if is_train and len(parts) == 4:\n",
    "            data.append((parts[0], parts[1], parts[2], parts[3]))\n",
    "        elif not is_train and len(parts) == 3:\n",
    "            data.append((parts[0], parts[1], parts[2]))\n",
    "    if is_train:\n",
    "        return pd.DataFrame(data, columns=[\"ID\", \"Title\", \"Genre\", \"Description\"])\n",
    "    else:\n",
    "        return pd.DataFrame(data, columns=[\"ID\", \"Title\", \"Description\"])\n",
    "\n",
    "# Load datasets\n",
    "train_df = load_data(train_path)\n",
    "test_df = load_data(test_path, is_train=False)\n",
    "test_solution_df = load_data(test_solution_path)\n",
    "\n",
    "# Merge test data with ground truth genres\n",
    "test_df[\"Genre\"] = test_solution_df[\"Genre\"]\n"
   ]
  },
  {
   "cell_type": "code",
   "execution_count": 17,
   "id": "5c4f6163-4f06-4ff2-8009-6752390d66e3",
   "metadata": {},
   "outputs": [
    {
     "name": "stdout",
     "output_type": "stream",
     "text": [
      "\n",
      "=== Naive Bayes ===\n",
      "Accuracy: 0.5238560885608856\n"
     ]
    },
    {
     "name": "stderr",
     "output_type": "stream",
     "text": [
      "C:\\Users\\sachi\\anaconda3\\Lib\\site-packages\\sklearn\\metrics\\_classification.py:1509: UndefinedMetricWarning: Precision is ill-defined and being set to 0.0 in labels with no predicted samples. Use `zero_division` parameter to control this behavior.\n",
      "  _warn_prf(average, modifier, f\"{metric.capitalize()} is\", len(result))\n",
      "C:\\Users\\sachi\\anaconda3\\Lib\\site-packages\\sklearn\\metrics\\_classification.py:1509: UndefinedMetricWarning: Precision is ill-defined and being set to 0.0 in labels with no predicted samples. Use `zero_division` parameter to control this behavior.\n",
      "  _warn_prf(average, modifier, f\"{metric.capitalize()} is\", len(result))\n",
      "C:\\Users\\sachi\\anaconda3\\Lib\\site-packages\\sklearn\\metrics\\_classification.py:1509: UndefinedMetricWarning: Precision is ill-defined and being set to 0.0 in labels with no predicted samples. Use `zero_division` parameter to control this behavior.\n",
      "  _warn_prf(average, modifier, f\"{metric.capitalize()} is\", len(result))\n"
     ]
    },
    {
     "name": "stdout",
     "output_type": "stream",
     "text": [
      "Classification Report:\n",
      "               precision    recall  f1-score   support\n",
      "\n",
      "      action       0.55      0.11      0.18      1314\n",
      "       adult       0.51      0.06      0.11       590\n",
      "   adventure       0.81      0.07      0.13       775\n",
      "   animation       0.00      0.00      0.00       498\n",
      "   biography       0.00      0.00      0.00       264\n",
      "      comedy       0.51      0.42      0.46      7446\n",
      "       crime       0.00      0.00      0.00       505\n",
      " documentary       0.57      0.87      0.69     13096\n",
      "       drama       0.46      0.82      0.59     13612\n",
      "      family       0.50      0.00      0.00       783\n",
      "     fantasy       0.00      0.00      0.00       322\n",
      "   game-show       0.98      0.32      0.48       193\n",
      "     history       0.00      0.00      0.00       243\n",
      "      horror       0.69      0.36      0.47      2204\n",
      "       music       0.74      0.15      0.25       731\n",
      "     musical       0.00      0.00      0.00       276\n",
      "     mystery       0.00      0.00      0.00       318\n",
      "        news       0.00      0.00      0.00       181\n",
      "  reality-tv       0.55      0.02      0.05       883\n",
      "     romance       0.00      0.00      0.00       672\n",
      "      sci-fi       0.64      0.06      0.11       646\n",
      "       short       0.59      0.12      0.20      5072\n",
      "       sport       0.81      0.10      0.18       431\n",
      "   talk-show       0.00      0.00      0.00       391\n",
      "    thriller       0.29      0.02      0.03      1590\n",
      "         war       0.00      0.00      0.00       132\n",
      "     western       0.94      0.62      0.75      1032\n",
      "\n",
      "    accuracy                           0.52     54200\n",
      "   macro avg       0.38      0.15      0.17     54200\n",
      "weighted avg       0.51      0.52      0.45     54200\n",
      "\n",
      "\n",
      "=== Logistic Regression ===\n",
      "Accuracy: 0.5839667896678967\n"
     ]
    },
    {
     "name": "stderr",
     "output_type": "stream",
     "text": [
      "C:\\Users\\sachi\\anaconda3\\Lib\\site-packages\\sklearn\\metrics\\_classification.py:1509: UndefinedMetricWarning: Precision is ill-defined and being set to 0.0 in labels with no predicted samples. Use `zero_division` parameter to control this behavior.\n",
      "  _warn_prf(average, modifier, f\"{metric.capitalize()} is\", len(result))\n",
      "C:\\Users\\sachi\\anaconda3\\Lib\\site-packages\\sklearn\\metrics\\_classification.py:1509: UndefinedMetricWarning: Precision is ill-defined and being set to 0.0 in labels with no predicted samples. Use `zero_division` parameter to control this behavior.\n",
      "  _warn_prf(average, modifier, f\"{metric.capitalize()} is\", len(result))\n",
      "C:\\Users\\sachi\\anaconda3\\Lib\\site-packages\\sklearn\\metrics\\_classification.py:1509: UndefinedMetricWarning: Precision is ill-defined and being set to 0.0 in labels with no predicted samples. Use `zero_division` parameter to control this behavior.\n",
      "  _warn_prf(average, modifier, f\"{metric.capitalize()} is\", len(result))\n"
     ]
    },
    {
     "name": "stdout",
     "output_type": "stream",
     "text": [
      "Classification Report:\n",
      "               precision    recall  f1-score   support\n",
      "\n",
      "      action       0.48      0.29      0.36      1314\n",
      "       adult       0.60      0.24      0.34       590\n",
      "   adventure       0.59      0.17      0.26       775\n",
      "   animation       0.53      0.07      0.12       498\n",
      "   biography       0.00      0.00      0.00       264\n",
      "      comedy       0.53      0.58      0.55      7446\n",
      "       crime       0.36      0.04      0.07       505\n",
      " documentary       0.67      0.85      0.75     13096\n",
      "       drama       0.54      0.77      0.64     13612\n",
      "      family       0.50      0.09      0.15       783\n",
      "     fantasy       0.56      0.06      0.10       322\n",
      "   game-show       0.91      0.51      0.65       193\n",
      "     history       0.00      0.00      0.00       243\n",
      "      horror       0.64      0.57      0.61      2204\n",
      "       music       0.67      0.45      0.54       731\n",
      "     musical       0.33      0.02      0.04       276\n",
      "     mystery       0.36      0.02      0.03       318\n",
      "        news       0.69      0.06      0.11       181\n",
      "  reality-tv       0.51      0.18      0.27       883\n",
      "     romance       0.38      0.03      0.05       672\n",
      "      sci-fi       0.56      0.26      0.35       646\n",
      "       short       0.47      0.34      0.39      5072\n",
      "       sport       0.67      0.26      0.38       431\n",
      "   talk-show       0.60      0.16      0.25       391\n",
      "    thriller       0.39      0.14      0.20      1590\n",
      "         war       1.00      0.02      0.04       132\n",
      "     western       0.91      0.73      0.81      1032\n",
      "\n",
      "    accuracy                           0.58     54200\n",
      "   macro avg       0.53      0.26      0.30     54200\n",
      "weighted avg       0.57      0.58      0.55     54200\n",
      "\n",
      "\n",
      "=== SVM ===\n"
     ]
    },
    {
     "name": "stderr",
     "output_type": "stream",
     "text": [
      "C:\\Users\\sachi\\anaconda3\\Lib\\site-packages\\sklearn\\svm\\_classes.py:31: FutureWarning: The default value of `dual` will change from `True` to `'auto'` in 1.5. Set the value of `dual` explicitly to suppress the warning.\n",
      "  warnings.warn(\n"
     ]
    },
    {
     "name": "stdout",
     "output_type": "stream",
     "text": [
      "Accuracy: 0.5712361623616237\n",
      "Classification Report:\n",
      "               precision    recall  f1-score   support\n",
      "\n",
      "      action       0.38      0.31      0.34      1314\n",
      "       adult       0.51      0.36      0.43       590\n",
      "   adventure       0.38      0.20      0.26       775\n",
      "   animation       0.30      0.14      0.19       498\n",
      "   biography       0.00      0.00      0.00       264\n",
      "      comedy       0.53      0.55      0.54      7446\n",
      "       crime       0.18      0.06      0.09       505\n",
      " documentary       0.69      0.82      0.75     13096\n",
      "       drama       0.56      0.71      0.63     13612\n",
      "      family       0.31      0.13      0.18       783\n",
      "     fantasy       0.27      0.11      0.15       322\n",
      "   game-show       0.74      0.60      0.66       193\n",
      "     history       0.17      0.02      0.04       243\n",
      "      horror       0.58      0.60      0.59      2204\n",
      "       music       0.58      0.49      0.53       731\n",
      "     musical       0.28      0.08      0.12       276\n",
      "     mystery       0.19      0.05      0.08       318\n",
      "        news       0.38      0.10      0.16       181\n",
      "  reality-tv       0.40      0.25      0.30       883\n",
      "     romance       0.24      0.06      0.09       672\n",
      "      sci-fi       0.46      0.33      0.39       646\n",
      "       short       0.43      0.33      0.37      5072\n",
      "       sport       0.51      0.38      0.43       431\n",
      "   talk-show       0.49      0.27      0.35       391\n",
      "    thriller       0.30      0.16      0.21      1590\n",
      "         war       0.42      0.14      0.21       132\n",
      "     western       0.82      0.82      0.82      1032\n",
      "\n",
      "    accuracy                           0.57     54200\n",
      "   macro avg       0.41      0.30      0.33     54200\n",
      "weighted avg       0.54      0.57      0.55     54200\n",
      "\n"
     ]
    }
   ],
   "source": [
    "# Features and labels\n",
    "X_train = train_df[\"Description\"]\n",
    "y_train = train_df[\"Genre\"]\n",
    "X_test = test_df[\"Description\"]\n",
    "y_test = test_df[\"Genre\"]\n",
    "\n",
    "# Classifiers\n",
    "models = {\n",
    "    \"Naive Bayes\": MultinomialNB(),\n",
    "    \"Logistic Regression\": LogisticRegression(max_iter=1000),\n",
    "    \"SVM\": LinearSVC()\n",
    "}\n",
    "\n",
    "# Train and evaluate\n",
    "for name, model in models.items():\n",
    "    print(f\"\\n=== {name} ===\")\n",
    "    pipe = Pipeline([\n",
    "        ('tfidf', TfidfVectorizer(stop_words='english', max_features=5000)),\n",
    "        ('clf', model)\n",
    "    ])\n",
    "    pipe.fit(X_train, y_train)\n",
    "    y_pred = pipe.predict(X_test)\n",
    "    print(\"Accuracy:\", accuracy_score(y_test, y_pred))\n",
    "    print(\"Classification Report:\\n\", classification_report(y_test, y_pred))\n"
   ]
  },
  {
   "cell_type": "code",
   "execution_count": 19,
   "id": "72387ce8-5297-4728-9da5-dc3da8d31834",
   "metadata": {},
   "outputs": [
    {
     "name": "stdout",
     "output_type": "stream",
     "text": [
      "Loading GloVe vectors...\n"
     ]
    }
   ],
   "source": [
    "import gensim.downloader as api\n",
    "print(\"Loading GloVe vectors...\")\n",
    "w2v = api.load(\"glove-wiki-gigaword-100\")  # 100-dimensional vectors\n"
   ]
  },
  {
   "cell_type": "code",
   "execution_count": 20,
   "id": "98d889a2-2296-467a-9fbf-586b2d3a9230",
   "metadata": {},
   "outputs": [
    {
     "name": "stderr",
     "output_type": "stream",
     "text": [
      "100%|██████████| 54214/54214 [00:09<00:00, 5698.93it/s]\n",
      "100%|██████████| 54200/54200 [00:09<00:00, 5931.63it/s]\n"
     ]
    }
   ],
   "source": [
    "# Preprocessing\n",
    "def preprocess(text):\n",
    "    text = re.sub(r\"[^a-zA-Z]\", \" \", text.lower())\n",
    "    return [word for word in text.split() if word in w2v]\n",
    "\n",
    "# Average Word2Vec\n",
    "def get_vector(text):\n",
    "    words = preprocess(text)\n",
    "    if not words:\n",
    "        return np.zeros(w2v.vector_size)\n",
    "    return np.mean([w2v[word] for word in words], axis=0)\n",
    "\n",
    "# Encode genres\n",
    "label_encoder = LabelEncoder()\n",
    "y_train_vec = label_encoder.fit_transform(train_df[\"Genre\"])\n",
    "y_test_vec = label_encoder.transform(test_df[\"Genre\"])\n",
    "\n",
    "# Vectorize descriptions\n",
    "X_train_vec = np.vstack([get_vector(desc) for desc in tqdm(train_df[\"Description\"])])\n",
    "X_test_vec = np.vstack([get_vector(desc) for desc in tqdm(test_df[\"Description\"])])\n"
   ]
  },
  {
   "cell_type": "code",
   "execution_count": 21,
   "id": "ce4d510f-ef57-41fb-b26b-2f40e739efcd",
   "metadata": {},
   "outputs": [
    {
     "name": "stdout",
     "output_type": "stream",
     "text": [
      "Accuracy: 0.5361623616236162\n",
      "Classification Report:\n",
      "               precision    recall  f1-score   support\n",
      "\n",
      "      action       0.40      0.27      0.32      1314\n",
      "       adult       0.44      0.21      0.28       590\n",
      "   adventure       0.31      0.08      0.13       775\n",
      "   animation       0.30      0.07      0.11       498\n",
      "   biography       0.00      0.00      0.00       264\n",
      "      comedy       0.47      0.49      0.48      7446\n",
      "       crime       0.26      0.05      0.08       505\n",
      " documentary       0.64      0.80      0.71     13096\n",
      "       drama       0.51      0.74      0.60     13612\n",
      "      family       0.35      0.08      0.12       783\n",
      "     fantasy       0.39      0.06      0.10       322\n",
      "   game-show       0.76      0.50      0.60       193\n",
      "     history       0.33      0.02      0.03       243\n",
      "      horror       0.50      0.46      0.48      2204\n",
      "       music       0.62      0.51      0.56       731\n",
      "     musical       0.13      0.01      0.02       276\n",
      "     mystery       0.14      0.00      0.01       318\n",
      "        news       0.55      0.07      0.12       181\n",
      "  reality-tv       0.43      0.17      0.25       883\n",
      "     romance       0.48      0.03      0.06       672\n",
      "      sci-fi       0.45      0.27      0.34       646\n",
      "       short       0.44      0.26      0.33      5072\n",
      "       sport       0.53      0.37      0.44       431\n",
      "   talk-show       0.41      0.19      0.26       391\n",
      "    thriller       0.29      0.08      0.13      1590\n",
      "         war       0.47      0.11      0.18       132\n",
      "     western       0.73      0.70      0.71      1032\n",
      "\n",
      "    accuracy                           0.54     54200\n",
      "   macro avg       0.42      0.24      0.28     54200\n",
      "weighted avg       0.50      0.54      0.50     54200\n",
      "\n"
     ]
    }
   ],
   "source": [
    "# Logistic Regression on Word2Vec\n",
    "clf = LogisticRegression(max_iter=1000)\n",
    "clf.fit(X_train_vec, y_train_vec)\n",
    "y_pred_vec = clf.predict(X_test_vec)\n",
    "\n",
    "# Results\n",
    "print(\"Accuracy:\", accuracy_score(y_test_vec, y_pred_vec))\n",
    "print(\"Classification Report:\\n\", classification_report(y_test_vec, y_pred_vec, target_names=label_encoder.classes_))\n"
   ]
  },
  {
   "cell_type": "code",
   "execution_count": 31,
   "id": "a6400c61-73db-42d1-9240-156e898bc1ce",
   "metadata": {},
   "outputs": [
    {
     "name": "stdout",
     "output_type": "stream",
     "text": [
      "Predicted Genre: drama\n"
     ]
    }
   ],
   "source": [
    "def predict_genre(text, model, encoder):\n",
    "    vec = get_vector(text).reshape(1, -1)\n",
    "    pred = model.predict(vec)[0]\n",
    "    return encoder.inverse_transform([pred])[0]\n",
    "\n",
    "# Try it\n",
    "new_plot = \"Two strangers meet by chance in Paris and fall in love, but fate keeps pulling them apart.\"\n",
    "print(\"Predicted Genre:\", predict_genre(new_plot, clf, label_encoder))\n"
   ]
  },
  {
   "cell_type": "code",
   "execution_count": null,
   "id": "e3da2847-9cb9-4268-bf9a-8054ef38f25a",
   "metadata": {},
   "outputs": [],
   "source": []
  }
 ],
 "metadata": {
  "kernelspec": {
   "display_name": "Python 3 (ipykernel)",
   "language": "python",
   "name": "python3"
  },
  "language_info": {
   "codemirror_mode": {
    "name": "ipython",
    "version": 3
   },
   "file_extension": ".py",
   "mimetype": "text/x-python",
   "name": "python",
   "nbconvert_exporter": "python",
   "pygments_lexer": "ipython3",
   "version": "3.12.4"
  }
 },
 "nbformat": 4,
 "nbformat_minor": 5
}
